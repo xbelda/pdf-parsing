{
 "cells": [
  {
   "cell_type": "markdown",
   "id": "e8b54859-e387-42fa-9c8b-edb708d70043",
   "metadata": {},
   "source": [
    "- https://www.overleaf.com/gallery/tagged/cv"
   ]
  },
  {
   "cell_type": "code",
   "execution_count": null,
   "id": "90b2e105-5619-42ac-be92-13f8b01cd2b9",
   "metadata": {},
   "outputs": [],
   "source": [
    "cd .."
   ]
  },
  {
   "cell_type": "code",
   "execution_count": null,
   "id": "9f5389f5-3b1c-4641-a0af-1861b724bb2a",
   "metadata": {},
   "outputs": [],
   "source": [
    "from pathlib import Path\n",
    "import re\n",
    "\n",
    "from pdfminer.high_level import extract_text, extract_pages\n",
    "from pdfminer.layout import LAParams"
   ]
  },
  {
   "cell_type": "code",
   "execution_count": null,
   "id": "6f98f672-e16c-4d39-9388-c134d32ce16e",
   "metadata": {},
   "outputs": [],
   "source": [
    "folder = Path(\"./examples/\")\n",
    "files = list(folder.glob(\"*.pdf\"))"
   ]
  },
  {
   "cell_type": "code",
   "execution_count": null,
   "id": "157c123b-9742-4416-ba3b-46a92dfde75f",
   "metadata": {},
   "outputs": [],
   "source": [
    "filename = files[2]\n",
    "filename"
   ]
  },
  {
   "cell_type": "code",
   "execution_count": null,
   "id": "1df96ba2-cf78-4ec0-a8a8-d2994d132c1d",
   "metadata": {},
   "outputs": [],
   "source": [
    "text = extract_text(filename, laparams=LAParams(boxes_flow=0.5))\n",
    "text = re.sub(\"\\n{2+}\", \"\\n\\n\", text).strip()\n",
    "\n",
    "print(text)"
   ]
  }
 ],
 "metadata": {
  "kernelspec": {
   "display_name": "Python 3 (ipykernel)",
   "language": "python",
   "name": "python3"
  },
  "language_info": {
   "codemirror_mode": {
    "name": "ipython",
    "version": 3
   },
   "file_extension": ".py",
   "mimetype": "text/x-python",
   "name": "python",
   "nbconvert_exporter": "python",
   "pygments_lexer": "ipython3",
   "version": "3.10.12"
  }
 },
 "nbformat": 4,
 "nbformat_minor": 5
}
